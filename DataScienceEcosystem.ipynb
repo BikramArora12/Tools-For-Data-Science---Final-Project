{
  "metadata": {
    "kernelspec": {
      "name": "python",
      "display_name": "Python (Pyodide)",
      "language": "python"
    },
    "language_info": {
      "codemirror_mode": {
        "name": "python",
        "version": 3
      },
      "file_extension": ".py",
      "mimetype": "text/x-python",
      "name": "python",
      "nbconvert_exporter": "python",
      "pygments_lexer": "ipython3",
      "version": "3.8"
    }
  },
  "nbformat_minor": 5,
  "nbformat": 4,
  "cells": [
    {
      "id": "97c3c363-a8c4-48a6-99bc-ad649d455352",
      "cell_type": "markdown",
      "source": "# Data Science Tools and Ecosystem",
      "metadata": {}
    },
    {
      "id": "6e2b6368-ec6e-46bc-8d36-8b9cb8950ca6",
      "cell_type": "markdown",
      "source": "In this notebook, Data Science Tools and Ecosystem are summarized.",
      "metadata": {}
    },
    {
      "id": "d852c5ac-2e04-41b2-99a4-7982272bd4de",
      "cell_type": "markdown",
      "source": "**Objectives:**\n- List popular languages used by Data Scientists\n- List popular libraries used by Data Scientists\n- List commonly used open-source development environments by Data Scientists\n- Use Python to evaluate basic arithmetic expressions",
      "metadata": {}
    },
    {
      "id": "dbf245ef-2645-4d9e-8da0-c36f26921130",
      "cell_type": "markdown",
      "source": "Some of the popular languages that Data Scientists use are:\n1. Python\n2. R\n3. SQL\n4. C++\n5. Java",
      "metadata": {}
    },
    {
      "id": "9cf7a5e4-a802-40e2-bead-dd8d4f688193",
      "cell_type": "markdown",
      "source": "Some of the commonly used libraries used by Data Scientists include:\n1. Pandas\n2. ggplot2\n3. TensorFlow\n4. Matplotlib",
      "metadata": {}
    },
    {
      "id": "5e53d3b9-a93b-4382-9f92-7638cf9a4b5c",
      "cell_type": "markdown",
      "source": "| Data Science Tools |\n|--------------------|\n| Jupyter |\n| R Studio |\n| Watson Studio |\n| Git |\n| NodeJS |",
      "metadata": {}
    },
    {
      "id": "934e4244-dbe8-4305-a5ac-4b7592c9e7d1",
      "cell_type": "markdown",
      "source": "### Below are a few examples of evaluating arithmetic expressions in Python",
      "metadata": {}
    },
    {
      "id": "cecf5847-edc4-48b6-a9ee-2b82df1ab359",
      "cell_type": "code",
      "source": "#This is a simple arithmetic expression to multiply then add integers\nx = int(3)\ny = int(4) \nz = int(5)\nb = (x*y)+z\nprint(b) ",
      "metadata": {
        "trusted": true
      },
      "outputs": [
        {
          "name": "stdout",
          "text": "17\n",
          "output_type": "stream"
        }
      ],
      "execution_count": 6
    },
    {
      "id": "dd24da8b-71ec-4807-b788-22bd15213e81",
      "cell_type": "code",
      "source": "#This will convert 200 minutes to hours by dividing by 60\nr = int(200)\ns = int(60)\nt = r/s\nprint(t, \"hours\")",
      "metadata": {
        "trusted": true
      },
      "outputs": [
        {
          "name": "stdout",
          "text": "3.3333333333333335 hours\n",
          "output_type": "stream"
        }
      ],
      "execution_count": 8
    },
    {
      "id": "7959e609-c127-4a37-923e-3ceecdb3ac09",
      "cell_type": "markdown",
      "source": "## Author\nBikram Arora",
      "metadata": {}
    },
    {
      "id": "682c2584-d8d7-4720-8a73-acb48c8697bd",
      "cell_type": "code",
      "source": "",
      "metadata": {
        "trusted": true
      },
      "outputs": [],
      "execution_count": null
    }
  ]
}